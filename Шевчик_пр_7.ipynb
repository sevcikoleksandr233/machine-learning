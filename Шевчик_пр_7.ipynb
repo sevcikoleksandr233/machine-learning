{
  "nbformat": 4,
  "nbformat_minor": 0,
  "metadata": {
    "colab": {
      "provenance": [],
      "authorship_tag": "ABX9TyOoFFzWUyATEocp6gN58uXF",
      "include_colab_link": true
    },
    "kernelspec": {
      "name": "python3",
      "display_name": "Python 3"
    },
    "language_info": {
      "name": "python"
    }
  },
  "cells": [
    {
      "cell_type": "markdown",
      "metadata": {
        "id": "view-in-github",
        "colab_type": "text"
      },
      "source": [
        "<a href=\"https://colab.research.google.com/github/sevcikoleksandr233/machine-learning/blob/main/%D0%A8%D0%B5%D0%B2%D1%87%D0%B8%D0%BA_%D0%BF%D1%80_7.ipynb\" target=\"_parent\"><img src=\"https://colab.research.google.com/assets/colab-badge.svg\" alt=\"Open In Colab\"/></a>"
      ]
    },
    {
      "cell_type": "code",
      "execution_count": 1,
      "metadata": {
        "colab": {
          "base_uri": "https://localhost:8080/"
        },
        "id": "P_TVzvCLcVS3",
        "outputId": "16ddf21b-aa23-4380-d5a6-d33436cb03c0"
      },
      "outputs": [
        {
          "output_type": "stream",
          "name": "stdout",
          "text": [
            "Collecting scikit-surprise\n",
            "  Downloading scikit_surprise-1.1.4.tar.gz (154 kB)\n",
            "\u001b[2K     \u001b[90m━━━━━━━━━━━━━━━━━━━━━━━━━━━━━━━━━━━━━━━━\u001b[0m \u001b[32m154.4/154.4 kB\u001b[0m \u001b[31m2.6 MB/s\u001b[0m eta \u001b[36m0:00:00\u001b[0m\n",
            "\u001b[?25h  Installing build dependencies ... \u001b[?25l\u001b[?25hdone\n",
            "  Getting requirements to build wheel ... \u001b[?25l\u001b[?25hdone\n",
            "  Preparing metadata (pyproject.toml) ... \u001b[?25l\u001b[?25hdone\n",
            "Requirement already satisfied: joblib>=1.2.0 in /usr/local/lib/python3.10/dist-packages (from scikit-surprise) (1.4.2)\n",
            "Requirement already satisfied: numpy>=1.19.5 in /usr/local/lib/python3.10/dist-packages (from scikit-surprise) (1.26.4)\n",
            "Requirement already satisfied: scipy>=1.6.0 in /usr/local/lib/python3.10/dist-packages (from scikit-surprise) (1.13.1)\n",
            "Building wheels for collected packages: scikit-surprise\n",
            "  Building wheel for scikit-surprise (pyproject.toml) ... \u001b[?25l\u001b[?25hdone\n",
            "  Created wheel for scikit-surprise: filename=scikit_surprise-1.1.4-cp310-cp310-linux_x86_64.whl size=2357270 sha256=27d5dd7ff8344b3d2aa0f96d423e7578af5a05837dc03adcf606190e897a4aa0\n",
            "  Stored in directory: /root/.cache/pip/wheels/4b/3f/df/6acbf0a40397d9bf3ff97f582cc22fb9ce66adde75bc71fd54\n",
            "Successfully built scikit-surprise\n",
            "Installing collected packages: scikit-surprise\n",
            "Successfully installed scikit-surprise-1.1.4\n"
          ]
        }
      ],
      "source": [
        "!pip install scikit-surprise"
      ]
    },
    {
      "cell_type": "code",
      "source": [
        "'''Завдання 1.\n",
        "1. Завантажте датасет для рецензій (ml-100k) за допомогою бібліотеки\n",
        "Surprise.'''\n",
        "from surprise import accuracy, Dataset, SVD\n",
        "from surprise.model_selection import train_test_split\n",
        "\n",
        "data = Dataset.load_builtin(\"ml-100k\")\n",
        "\n",
        "trainset, testset = train_test_split(data, test_size=0.25)\n",
        "algo = SVD()\n",
        "\n",
        "algo.fit(trainset)\n",
        "predictions = algo.test(testset)\n",
        "\n",
        "accuracy.rmse(predictions)\n"
      ],
      "metadata": {
        "colab": {
          "base_uri": "https://localhost:8080/"
        },
        "id": "0pj3p_MmcZLk",
        "outputId": "9bb17436-4005-487b-ff9b-facdc4e8e521"
      },
      "execution_count": 2,
      "outputs": [
        {
          "output_type": "stream",
          "name": "stdout",
          "text": [
            "Dataset ml-100k could not be found. Do you want to download it? [Y/n] y\n",
            "Trying to download dataset from https://files.grouplens.org/datasets/movielens/ml-100k.zip...\n",
            "Done! Dataset ml-100k has been saved to /root/.surprise_data/ml-100k\n",
            "RMSE: 0.9385\n"
          ]
        },
        {
          "output_type": "execute_result",
          "data": {
            "text/plain": [
              "0.9385056417097267"
            ]
          },
          "metadata": {},
          "execution_count": 2
        }
      ]
    },
    {
      "cell_type": "code",
      "source": [
        "'''2. Виведіть перші 5 рядків завантаженого датасету.'''\n",
        "from surprise import Dataset, Reader\n",
        "from surprise import SVD, KNNBasic\n",
        "from surprise.model_selection import cross_validate, GridSearchCV\n",
        "from surprise import accuracy\n",
        "from surprise.model_selection import train_test_split\n",
        "\n",
        "data = Dataset.load_builtin('ml-100k')\n",
        "\n",
        "print(\"Перші 5 рядків датасету:\")\n",
        "for row in data.raw_ratings[:5]:\n",
        "    user_id, movie_id, rating, timestamp = row\n",
        "    print(f\"Користувач {user_id} оцінив фільм {movie_id} на {rating} балів (часова позначка: {timestamp})\")"
      ],
      "metadata": {
        "colab": {
          "base_uri": "https://localhost:8080/"
        },
        "id": "jLFY_mTdcZN_",
        "outputId": "0165f91c-35ef-4a80-f4db-a66cd0e62b05"
      },
      "execution_count": 3,
      "outputs": [
        {
          "output_type": "stream",
          "name": "stdout",
          "text": [
            "Перші 5 рядків датасету:\n",
            "Користувач 196 оцінив фільм 242 на 3.0 балів (часова позначка: 881250949)\n",
            "Користувач 186 оцінив фільм 302 на 3.0 балів (часова позначка: 891717742)\n",
            "Користувач 22 оцінив фільм 377 на 1.0 балів (часова позначка: 878887116)\n",
            "Користувач 244 оцінив фільм 51 на 2.0 балів (часова позначка: 880606923)\n",
            "Користувач 166 оцінив фільм 346 на 1.0 балів (часова позначка: 886397596)\n"
          ]
        }
      ]
    },
    {
      "cell_type": "code",
      "source": [
        "'''3. Реалізуйте два алгоритми для рекомендаційної системи на основі цього\n",
        "датасету. Можна вибрати будь-які алгоритми з бібліотеки Surprise.'''\n",
        "'''4. Використайте крос-валідацію для підбору оптимальних параметрів для\n",
        "обох алгоритмів.'''\n",
        "trainset, testset = train_test_split(data, test_size=0.2)\n",
        "\n",
        "# Параметри для підбору через GridSearchCV для SVD\n",
        "param_grid_svd = {\n",
        "    'n_factors': [25, 100],\n",
        "    'lr_all': [0.005, 0.015],\n",
        "    'reg_all': [0.02, 0.05]\n",
        "}\n",
        "\n",
        "# Параметри для підбору через GridSearchCV для KNNBasic\n",
        "param_grid_knn = {\n",
        "    'k': [20, 40],\n",
        "    'min_k': [1, 3],\n",
        "    'sim_options': {\n",
        "        'name': ['cosine', 'pearson'],\n",
        "        'user_based': [False, True]\n",
        "    }\n",
        "}\n",
        "\n",
        "grid_search_svd = GridSearchCV(SVD, param_grid_svd, measures=['rmse', 'mae'], cv=5)\n",
        "grid_search_svd.fit(data)\n",
        "\n",
        "grid_search_knn = GridSearchCV(KNNBasic, param_grid_knn, measures=['rmse', 'mae'], cv=3)\n",
        "grid_search_knn.fit(data)\n",
        "\n"
      ],
      "metadata": {
        "colab": {
          "base_uri": "https://localhost:8080/"
        },
        "id": "ZRlhXOcDcZQX",
        "outputId": "893f6de6-d24e-42fd-d92e-320286b3a6d5"
      },
      "execution_count": 4,
      "outputs": [
        {
          "output_type": "stream",
          "name": "stdout",
          "text": [
            "Computing the cosine similarity matrix...\n",
            "Done computing similarity matrix.\n",
            "Computing the cosine similarity matrix...\n",
            "Done computing similarity matrix.\n",
            "Computing the cosine similarity matrix...\n",
            "Done computing similarity matrix.\n",
            "Computing the cosine similarity matrix...\n",
            "Done computing similarity matrix.\n",
            "Computing the cosine similarity matrix...\n",
            "Done computing similarity matrix.\n",
            "Computing the cosine similarity matrix...\n",
            "Done computing similarity matrix.\n",
            "Computing the pearson similarity matrix...\n",
            "Done computing similarity matrix.\n",
            "Computing the pearson similarity matrix...\n",
            "Done computing similarity matrix.\n",
            "Computing the pearson similarity matrix...\n",
            "Done computing similarity matrix.\n",
            "Computing the pearson similarity matrix...\n",
            "Done computing similarity matrix.\n",
            "Computing the pearson similarity matrix...\n",
            "Done computing similarity matrix.\n",
            "Computing the pearson similarity matrix...\n",
            "Done computing similarity matrix.\n",
            "Computing the cosine similarity matrix...\n",
            "Done computing similarity matrix.\n",
            "Computing the cosine similarity matrix...\n",
            "Done computing similarity matrix.\n",
            "Computing the cosine similarity matrix...\n",
            "Done computing similarity matrix.\n",
            "Computing the cosine similarity matrix...\n",
            "Done computing similarity matrix.\n",
            "Computing the cosine similarity matrix...\n",
            "Done computing similarity matrix.\n",
            "Computing the cosine similarity matrix...\n",
            "Done computing similarity matrix.\n",
            "Computing the pearson similarity matrix...\n",
            "Done computing similarity matrix.\n",
            "Computing the pearson similarity matrix...\n",
            "Done computing similarity matrix.\n",
            "Computing the pearson similarity matrix...\n",
            "Done computing similarity matrix.\n",
            "Computing the pearson similarity matrix...\n",
            "Done computing similarity matrix.\n",
            "Computing the pearson similarity matrix...\n",
            "Done computing similarity matrix.\n",
            "Computing the pearson similarity matrix...\n",
            "Done computing similarity matrix.\n",
            "Computing the cosine similarity matrix...\n",
            "Done computing similarity matrix.\n",
            "Computing the cosine similarity matrix...\n",
            "Done computing similarity matrix.\n",
            "Computing the cosine similarity matrix...\n",
            "Done computing similarity matrix.\n",
            "Computing the cosine similarity matrix...\n",
            "Done computing similarity matrix.\n",
            "Computing the cosine similarity matrix...\n",
            "Done computing similarity matrix.\n",
            "Computing the cosine similarity matrix...\n",
            "Done computing similarity matrix.\n",
            "Computing the pearson similarity matrix...\n",
            "Done computing similarity matrix.\n",
            "Computing the pearson similarity matrix...\n",
            "Done computing similarity matrix.\n",
            "Computing the pearson similarity matrix...\n",
            "Done computing similarity matrix.\n",
            "Computing the pearson similarity matrix...\n",
            "Done computing similarity matrix.\n",
            "Computing the pearson similarity matrix...\n",
            "Done computing similarity matrix.\n",
            "Computing the pearson similarity matrix...\n",
            "Done computing similarity matrix.\n",
            "Computing the cosine similarity matrix...\n",
            "Done computing similarity matrix.\n",
            "Computing the cosine similarity matrix...\n",
            "Done computing similarity matrix.\n",
            "Computing the cosine similarity matrix...\n",
            "Done computing similarity matrix.\n",
            "Computing the cosine similarity matrix...\n",
            "Done computing similarity matrix.\n",
            "Computing the cosine similarity matrix...\n",
            "Done computing similarity matrix.\n",
            "Computing the cosine similarity matrix...\n",
            "Done computing similarity matrix.\n",
            "Computing the pearson similarity matrix...\n",
            "Done computing similarity matrix.\n",
            "Computing the pearson similarity matrix...\n",
            "Done computing similarity matrix.\n",
            "Computing the pearson similarity matrix...\n",
            "Done computing similarity matrix.\n",
            "Computing the pearson similarity matrix...\n",
            "Done computing similarity matrix.\n",
            "Computing the pearson similarity matrix...\n",
            "Done computing similarity matrix.\n",
            "Computing the pearson similarity matrix...\n",
            "Done computing similarity matrix.\n"
          ]
        }
      ]
    },
    {
      "cell_type": "code",
      "source": [
        "'''5. Оберіть найкращий алгоритм на основі середньої абсолютної помилки\n",
        "(MAE).'''\n",
        "\n",
        "best_svd = grid_search_svd.best_estimator['mae']\n",
        "best_knn = grid_search_knn.best_estimator['mae']\n",
        "\n",
        "print(f\"Найкращий MAE для SVD: {grid_search_svd.best_score['mae']}\")\n",
        "print(f\"Найкращий MAE для KNNBasic: {grid_search_knn.best_score['mae']}\")\n",
        "\n",
        "# Вибір моделі з найменшим MAE\n",
        "if grid_search_svd.best_score['mae'] < grid_search_knn.best_score['mae']:\n",
        "    best_model = best_svd\n",
        "    print(\"Вибраний алгоритм: SVD\")\n",
        "else:\n",
        "    best_model = best_knn\n",
        "    print(\"Вибраний алгоритм: KNNBasic\")\n"
      ],
      "metadata": {
        "colab": {
          "base_uri": "https://localhost:8080/"
        },
        "id": "kDZaDR4GcZSl",
        "outputId": "48a4b4e5-bb52-43e2-ba18-0a9984442745"
      },
      "execution_count": 5,
      "outputs": [
        {
          "output_type": "stream",
          "name": "stdout",
          "text": [
            "Найкращий MAE для SVD: 0.727052446807721\n",
            "Найкращий MAE для KNNBasic: 0.8080422974757567\n",
            "Вибраний алгоритм: SVD\n"
          ]
        }
      ]
    },
    {
      "cell_type": "code",
      "source": [
        "'''6. Виведи рекомендації (10 фільмів) для конкретного користувача.'''\n",
        "best_model.fit(trainset)\n",
        "\n",
        "# Виведення рекомендацій для конкретного користувача\n",
        "user_id = str(125)\n",
        "user_ratings = trainset.ur[trainset.to_inner_uid(user_id)]\n",
        "print(f\"Кількість рецензій користувача {user_id}: {len(user_ratings)}\")\n",
        "\n",
        "# Отримання рекомендацій\n",
        "all_items = set(trainset.all_items())\n",
        "rated_items = set([item for (item, _) in user_ratings])\n",
        "unrated_items = all_items - rated_items\n",
        "\n",
        "# Прогнозування рейтингів для нерецензованих фільмів\n",
        "predictions = [(item, best_model.predict(user_id, trainset.to_raw_iid(item)).est) for item in unrated_items]\n",
        "predictions.sort(key=lambda x: x[1], reverse=True)\n",
        "\n",
        "# Виведення 10 найкращих фільмів\n",
        "print(\"Топ-10 фільмів, рекомендованих для користувача:\")\n",
        "for item_id, rating in predictions[:10]:\n",
        "    print(f\"Фільм {trainset.to_raw_iid(item_id)} з прогнозованим рейтингом {rating:.2f}\")"
      ],
      "metadata": {
        "colab": {
          "base_uri": "https://localhost:8080/"
        },
        "id": "51PyyKaScZUu",
        "outputId": "c5b57d58-b61d-40e4-f066-d66412644fff"
      },
      "execution_count": 6,
      "outputs": [
        {
          "output_type": "stream",
          "name": "stdout",
          "text": [
            "Кількість рецензій користувача 125: 146\n",
            "Топ-10 фільмів, рекомендованих для користувача:\n",
            "Фільм 378 з прогнозованим рейтингом 4.78\n",
            "Фільм 1167 з прогнозованим рейтингом 4.74\n",
            "Фільм 966 з прогнозованим рейтингом 4.64\n",
            "Фільм 96 з прогнозованим рейтингом 4.61\n",
            "Фільм 165 з прогнозованим рейтингом 4.55\n",
            "Фільм 133 з прогнозованим рейтингом 4.54\n",
            "Фільм 95 з прогнозованим рейтингом 4.44\n",
            "Фільм 265 з прогнозованим рейтингом 4.43\n",
            "Фільм 166 з прогнозованим рейтингом 4.41\n",
            "Фільм 451 з прогнозованим рейтингом 4.41\n"
          ]
        }
      ]
    },
    {
      "cell_type": "code",
      "source": [
        "'''Завдання 2.\n",
        "1. Побудуйте власну рекомендаційну систему (приклад є в документації).\n",
        "Оцініть її.'''\n",
        "from surprise import NMF, NormalPredictor\n",
        "from surprise.model_selection import cross_validate\n",
        "\n",
        "# Алгоритм 1: NMF (Non-negative Matrix Factorization)\n",
        "algo_nmf = NMF()\n",
        "\n",
        "# Алгоритм 2: Random (випадковий прогноз)\n",
        "algo_random = NormalPredictor()\n",
        "\n",
        "# Крос-валідація для NMF\n",
        "cv_nmf = cross_validate(algo_nmf, data, measures=['RMSE', 'MAE'], cv=5, verbose=True)\n",
        "\n",
        "# Крос-валідація для випадкового прогнозу\n",
        "cv_random = cross_validate(algo_random, data, measures=['RMSE', 'MAE'], cv=5, verbose=True)\n",
        "\n",
        "print(f\"Результати для NMF:\\nRMSE: {cv_nmf['test_rmse'].mean()}\\nMAE: {cv_nmf['test_mae'].mean()}\")\n",
        "print(f\"Результати для випадкового прогнозу:\\nRMSE: {cv_random['test_rmse'].mean()}\\nMAE: {cv_random['test_mae'].mean()}\")\n"
      ],
      "metadata": {
        "colab": {
          "base_uri": "https://localhost:8080/"
        },
        "id": "0-zPuONzcZXA",
        "outputId": "aaf1bf0b-14dc-4ec9-868a-3130e150a422"
      },
      "execution_count": 7,
      "outputs": [
        {
          "output_type": "stream",
          "name": "stdout",
          "text": [
            "Evaluating RMSE, MAE of algorithm NMF on 5 split(s).\n",
            "\n",
            "                  Fold 1  Fold 2  Fold 3  Fold 4  Fold 5  Mean    Std     \n",
            "RMSE (testset)    0.9581  0.9680  0.9571  0.9658  0.9692  0.9636  0.0051  \n",
            "MAE (testset)     0.7526  0.7605  0.7503  0.7614  0.7617  0.7573  0.0048  \n",
            "Fit time          2.02    2.04    2.10    2.78    2.07    2.20    0.29    \n",
            "Test time         0.10    0.19    0.20    0.17    0.09    0.15    0.05    \n",
            "Evaluating RMSE, MAE of algorithm NormalPredictor on 5 split(s).\n",
            "\n",
            "                  Fold 1  Fold 2  Fold 3  Fold 4  Fold 5  Mean    Std     \n",
            "RMSE (testset)    1.5190  1.5167  1.5254  1.5280  1.5264  1.5231  0.0044  \n",
            "MAE (testset)     1.2197  1.2205  1.2269  1.2264  1.2225  1.2232  0.0030  \n",
            "Fit time          0.10    0.13    0.13    0.13    0.13    0.13    0.01    \n",
            "Test time         0.08    0.18    0.08    0.19    0.08    0.12    0.05    \n",
            "Результати для NMF:\n",
            "RMSE: 0.963637834680031\n",
            "MAE: 0.7572969659118293\n",
            "Результати для випадкового прогнозу:\n",
            "RMSE: 1.5230967638212047\n",
            "MAE: 1.2232026213529728\n"
          ]
        }
      ]
    },
    {
      "cell_type": "code",
      "source": [
        "'''2. Отримайте рекомендацію для певного користувача.'''\n",
        "# Тренуємо модель NMF на тренувальному наборі\n",
        "algo_nmf.fit(trainset)\n",
        "\n",
        "user_id = str(125)\n",
        "user_ratings = trainset.ur[trainset.to_inner_uid(user_id)]\n",
        "\n",
        "# Прогнозуємо для фільмів, які користувач ще не бачив\n",
        "unrated_items = all_items - rated_items\n",
        "predictions = [(item, algo_nmf.predict(user_id, trainset.to_raw_iid(item)).est) for item in unrated_items]\n",
        "predictions.sort(key=lambda x: x[1], reverse=True)\n",
        "\n",
        "# Виведення 10 найкращих рекомендацій\n",
        "print(f\"Топ-10 рекомендацій для користувача {user_id}:\")\n",
        "for item_id, rating in predictions[:10]:\n",
        "    print(f\"Фільм {trainset.to_raw_iid(item_id)} з прогнозованим рейтингом {rating:.2f}\")\n"
      ],
      "metadata": {
        "colab": {
          "base_uri": "https://localhost:8080/"
        },
        "id": "zJelc35ocZY_",
        "outputId": "147bd430-349e-49d7-aeb6-34ab32534410"
      },
      "execution_count": 8,
      "outputs": [
        {
          "output_type": "stream",
          "name": "stdout",
          "text": [
            "Топ-10 рекомендацій для користувача 125:\n",
            "Фільм 1536 з прогнозованим рейтингом 5.00\n",
            "Фільм 1512 з прогнозованим рейтингом 5.00\n",
            "Фільм 814 з прогнозованим рейтингом 5.00\n",
            "Фільм 1233 з прогнозованим рейтингом 4.85\n",
            "Фільм 1129 з прогнозованим рейтингом 4.77\n",
            "Фільм 1643 з прогнозованим рейтингом 4.76\n",
            "Фільм 1398 з прогнозованим рейтингом 4.65\n",
            "Фільм 493 з прогнозованим рейтингом 4.61\n",
            "Фільм 408 з прогнозованим рейтингом 4.61\n",
            "Фільм 603 з прогнозованим рейтингом 4.59\n"
          ]
        }
      ]
    },
    {
      "cell_type": "code",
      "source": [
        "'''Висновки: Під час виконання лабораторної роботи було вивчено принципи роботи\n",
        "рекомендаційних систем на прикладі бібліотеки Surprise. Ми завантажили датасет\n",
        "рецензій (ml-100k) та реалізували два алгоритми: SVD і KNNBasic. Для обох\n",
        "методів була проведена крос-валідація з метою підбору оптимальних параметрів,\n",
        "що дозволило підвищити точність прогнозів. На основі метрики MAE було визначено\n",
        "найкращий алгоритм, який використовувався для формування рекомендацій для\n",
        "конкретного користувача.\n",
        "\n",
        "У другій частині роботи було створено власну рекомендаційну систему з\n",
        "використанням алгоритму NMF (Non-negative Matrix Factorization) та проведено\n",
        "її оцінювання. Порівняння результатів алгоритму NMF з випадковим прогнозуванням\n",
        "показало перевагу методів факторизації матриць для побудови ефективних\n",
        "рекомендаційних систем. Загалом, робота дала змогу ознайомитися з основними\n",
        "підходами до створення рекомендаційних систем, методами налаштування моделей\n",
        "та їх оцінки за різними метриками. '''"
      ],
      "metadata": {
        "id": "SvdJ0WdMcZbM"
      },
      "execution_count": null,
      "outputs": []
    },
    {
      "cell_type": "code",
      "source": [],
      "metadata": {
        "id": "6k6sbXa1cZhh"
      },
      "execution_count": null,
      "outputs": []
    },
    {
      "cell_type": "code",
      "source": [],
      "metadata": {
        "id": "ZGctRXlgcZjp"
      },
      "execution_count": null,
      "outputs": []
    }
  ]
}