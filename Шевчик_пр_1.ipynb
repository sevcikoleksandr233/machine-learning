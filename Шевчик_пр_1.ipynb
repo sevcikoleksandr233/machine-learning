{
  "nbformat": 4,
  "nbformat_minor": 0,
  "metadata": {
    "colab": {
      "provenance": [],
      "authorship_tag": "ABX9TyNJQwCTl4A+IxtVtwPx50n6",
      "include_colab_link": true
    },
    "kernelspec": {
      "name": "python3",
      "display_name": "Python 3"
    },
    "language_info": {
      "name": "python"
    }
  },
  "cells": [
    {
      "cell_type": "markdown",
      "metadata": {
        "id": "view-in-github",
        "colab_type": "text"
      },
      "source": [
        "<a href=\"https://colab.research.google.com/github/sevcikoleksandr233/machine-learning/blob/main/%D0%A8%D0%B5%D0%B2%D1%87%D0%B8%D0%BA_%D0%BF%D1%80_1.ipynb\" target=\"_parent\"><img src=\"https://colab.research.google.com/assets/colab-badge.svg\" alt=\"Open In Colab\"/></a>"
      ]
    },
    {
      "cell_type": "code",
      "execution_count": 1,
      "metadata": {
        "colab": {
          "base_uri": "https://localhost:8080/"
        },
        "id": "_xCMik_J-F65",
        "outputId": "027fd836-c528-48b4-e7c9-05d7514488ff"
      },
      "outputs": [
        {
          "output_type": "stream",
          "name": "stdout",
          "text": [
            "[ 1  3  5  7  9 11 13 15 17 19]\n"
          ]
        }
      ],
      "source": [
        "# Завдання 1\n",
        "# Створіть одновимірний масив (вектор) з сумами кожного числа та його\n",
        "# попереднього, починаючи з 1, та виведіть його значення.\n",
        "\n",
        "import numpy as np\n",
        "\n",
        "n = 10\n",
        "arr = np.arange(1, n + 1)\n",
        "result = np.zeros(n, dtype=int)\n",
        "\n",
        "for i in range(n):\n",
        "    if i == 0:\n",
        "        result[i] = arr[i]\n",
        "    else:\n",
        "        result[i] = arr[i] + arr[i - 1]\n",
        "\n",
        "print(result)\n"
      ]
    },
    {
      "cell_type": "code",
      "source": [
        "# Завдання 2\n",
        "# Створіть двовимірний масив (матрицю) розміром 3x3, заповніть його значеннями\n",
        "# випадкових дійсних чисел від 1 до 10.\n",
        "\n",
        "import numpy as np\n",
        "\n",
        "rows, cols = 3, 3\n",
        "matrix = np.random.uniform(1, 10, size=(rows, cols))\n",
        "\n",
        "print(matrix)\n"
      ],
      "metadata": {
        "id": "htX4N2ae-LkV"
      },
      "execution_count": null,
      "outputs": []
    },
    {
      "cell_type": "code",
      "source": [
        "# Завдання 3\n",
        "# Створіть масив розміром 3x3, заповніть його випадковими натуральними числами від\n",
        "# 1 до 100 та виведіть мін значення\n",
        "\n",
        "import numpy as np\n",
        "\n",
        "rows, cols = 3, 3\n",
        "matrix = np.random.randint(1, 101, size=(rows, cols))\n",
        "min_value = np.min(matrix)\n",
        "\n",
        "print(\"Матриця:\")\n",
        "print(matrix)\n",
        "print(\"Мінімальне значення:\", min_value)\n"
      ],
      "metadata": {
        "id": "8IlrEH6B-Lm8"
      },
      "execution_count": null,
      "outputs": []
    },
    {
      "cell_type": "code",
      "source": [
        "# Завдання 4\n",
        "# Створіть масив розміром 4x4, заповніть його випадковими дійсними числами в\n",
        "# діапазоні від 0 до 1 та знайдіть кількість елементів, що більше 0.5.\n",
        "\n",
        "import numpy as np\n",
        "\n",
        "matrix = np.random.uniform(0, 1, size=(4, 4))\n",
        "count = np.sum(matrix > 0.5)\n",
        "\n",
        "print(\"Матриця:\")\n",
        "print(matrix)\n",
        "print(\"Кількість елементів, що більше 0.5:\", count)\n"
      ],
      "metadata": {
        "id": "vCTH1d2X-Lpm"
      },
      "execution_count": null,
      "outputs": []
    },
    {
      "cell_type": "code",
      "source": [
        "# Завдання 5\n",
        "# Створіть два одновимірних масиви розміром 4, заповніть їх випадковими цілими\n",
        "# числами від -10 до 10 та виконайте на них поелементні операції додавання, віднімання\n",
        "# та множення.\n",
        "\n",
        "import numpy as np\n",
        "\n",
        "array1 = np.random.randint(-10, 11, size=4)\n",
        "array2 = np.random.randint(-10, 11, size=4)\n",
        "\n",
        "addition = array1 + array2\n",
        "subtraction = array1 - array2\n",
        "multiplication = array1 * array2\n",
        "\n",
        "print(\"Масив 1:\")\n",
        "print(array1)\n",
        "print(\"Масив 2:\")\n",
        "print(array2)\n",
        "print(\"Додавання:\")\n",
        "print(addition)\n",
        "print(\"Віднімання:\")\n",
        "print(subtraction)\n",
        "print(\"Множення:\")\n",
        "print(multiplication)\n"
      ],
      "metadata": {
        "id": "Kdzbpnrw-LsM"
      },
      "execution_count": null,
      "outputs": []
    },
    {
      "cell_type": "code",
      "source": [
        "# Завдання 6\n",
        "# Створіть дві матриці 3x3, заповніть їх довільними цілими числами від 1 до 20 та\n",
        "# знайдіть їх добуток.\n",
        "\n",
        "import numpy as np\n",
        "\n",
        "matrix1 = np.random.randint(1, 21, size=(3, 3))\n",
        "matrix2 = np.random.randint(1, 21, size=(3, 3))\n",
        "\n",
        "product = np.dot(matrix1, matrix2)\n",
        "\n",
        "print(\"Матриця 1:\")\n",
        "print(matrix1)\n",
        "print(\"Матриця 2:\")\n",
        "print(matrix2)\n",
        "print(\"Добуток матриць:\")\n",
        "print(product)\n"
      ],
      "metadata": {
        "id": "M-ijfK1T-Lum"
      },
      "execution_count": null,
      "outputs": []
    },
    {
      "cell_type": "code",
      "source": [
        "# Завдання 7\n",
        "# Створіть дві матриці розміром 2x3 та 3x3, заповніть їх випадковими цілими числами\n",
        "# в діапазоні від 1 до 4 та перемножте їх між собою.\n",
        "\n",
        "import numpy as np\n",
        "\n",
        "matrix1 = np.random.randint(1, 5, size=(2, 3))\n",
        "matrix2 = np.random.randint(1, 5, size=(3, 3))\n",
        "\n",
        "product = np.dot(matrix1, matrix2)\n",
        "\n",
        "print(\"Матриця 1:\")\n",
        "print(matrix1)\n",
        "print(\"Матриця 2:\")\n",
        "print(matrix2)\n",
        "print(\"Добуток матриць:\")\n",
        "print(product)\n"
      ],
      "metadata": {
        "id": "g07ypH55-LxI"
      },
      "execution_count": null,
      "outputs": []
    },
    {
      "cell_type": "code",
      "source": [
        "# Завдання 8\n",
        "# Створіть матрицю розміром 3x3, заповніть її випадковими цілими числами в діапазоні\n",
        "# від 1 до 7 та знайдіть її обернену матрицю.\n",
        "\n",
        "import numpy as np\n",
        "\n",
        "matrix = np.random.randint(1, 8, size=(3, 3))\n",
        "\n",
        "try:\n",
        "    inverse_matrix = np.linalg.inv(matrix)\n",
        "    print(\"Матриця:\")\n",
        "    print(matrix)\n",
        "    print(\"Обернена матриця:\")\n",
        "    print(inverse_matrix)\n",
        "except np.linalg.LinAlgError:\n",
        "    print(\"Матриця не є оберненою (можливо, її детермінант дорівнює нулю).\")\n"
      ],
      "metadata": {
        "id": "KcVSufx5-Lzw"
      },
      "execution_count": null,
      "outputs": []
    },
    {
      "cell_type": "code",
      "source": [
        "# Завдання 9\n",
        "# Створіть матрицю розміром 4x4, заповніть її випадковими цілими числами в діапазоні\n",
        "# від 0 до 1 та транспонуйте її.\n",
        "\n",
        "import numpy as np\n",
        "\n",
        "matrix = np.random.randint(0, 2, size=(4, 4))\n",
        "transposed_matrix = np.transpose(matrix)\n",
        "\n",
        "print(\"Матриця:\")\n",
        "print(matrix)\n",
        "print(\"Транспонована матриця:\")\n",
        "print(transposed_matrix)\n"
      ],
      "metadata": {
        "id": "H5spK6B--L16"
      },
      "execution_count": null,
      "outputs": []
    },
    {
      "cell_type": "code",
      "source": [
        "# Завдання 10\n",
        "# Створіть матрицю розміром 3x4 та вектор розміром 4x1, заповніть матрицю\n",
        "# випадковими дійсними числами від 0 до 1, а вектор - випадковими дійсними числами\n",
        "# від 0 до 1, і знайдіть добуток матриці на вектор\n",
        "\n",
        "import numpy as np\n",
        "\n",
        "matrix = np.random.uniform(0, 1, size=(3, 4))\n",
        "vector = np.random.uniform(0, 1, size=(4, 1))\n",
        "\n",
        "product = np.dot(matrix, vector)\n",
        "\n",
        "print(\"Матриця:\")\n",
        "print(matrix)\n",
        "print(\"Вектор:\")\n",
        "print(vector)\n",
        "print(\"Добуток матриці на вектор:\")\n",
        "print(product)\n"
      ],
      "metadata": {
        "id": "3HP3ckSo-L4d"
      },
      "execution_count": null,
      "outputs": []
    },
    {
      "cell_type": "code",
      "source": [
        "# Завдання 11\n",
        "# Створіть матрицю розміром 2x3 та вектор розміром 3x1, заповніть матрицю\n",
        "# випадковими дійсними числами від 0 до 1, а вектор - випадковими дійсними числами\n",
        "# від 0 до 1, і знайдіть добуток матриці на вектор\n",
        "\n",
        "import numpy as np\n",
        "\n",
        "matrix = np.random.uniform(0, 1, size=(2, 3))\n",
        "vector = np.random.uniform(0, 1, size=(3, 1))\n",
        "\n",
        "product = np.dot(matrix, vector)\n",
        "\n",
        "print(\"Матриця:\")\n",
        "print(matrix)\n",
        "print(\"Вектор:\")\n",
        "print(vector)\n",
        "print(\"Добуток матриці на вектор:\")\n",
        "print(product)\n"
      ],
      "metadata": {
        "id": "F-wLvaGF-L8E"
      },
      "execution_count": null,
      "outputs": []
    },
    {
      "cell_type": "code",
      "source": [
        "# Завдання 12\n",
        "# Створіть дві матриці розміром 3x3, заповніть їх випадковими цілими числами в\n",
        "# діапазоні від 1 до 5 та знайдіть добуток елементів діагоналі другої матриці.\n",
        "\n",
        "import numpy as np\n",
        "\n",
        "matrix1 = np.random.randint(1, 6, size=(3, 3))\n",
        "matrix2 = np.random.randint(1, 6, size=(3, 3))\n",
        "\n",
        "diagonal_elements = np.diag(matrix2)\n",
        "product_of_diagonal = np.prod(diagonal_elements)\n",
        "\n",
        "print(\"Матриця 1:\")\n",
        "print(matrix1)\n",
        "print(\"Матриця 2:\")\n",
        "print(matrix2)\n",
        "print(\"Добуток елементів діагоналі другої матриці:\")\n",
        "print(product_of_diagonal)\n"
      ],
      "metadata": {
        "id": "_7kGd_Js-kpR"
      },
      "execution_count": null,
      "outputs": []
    },
    {
      "cell_type": "code",
      "source": [
        "# Завдання 13\n",
        "# Створіть дві матриці розміром 4x4, заповніть їх випадковими цілими числами в\n",
        "# діапазоні від 1 до 5 та знайдіть різницю їх елементів.\n",
        "\n",
        "import numpy as np\n",
        "\n",
        "matrix1 = np.random.randint(1, 6, size=(4, 4))\n",
        "matrix2 = np.random.randint(1, 6, size=(4, 4))\n",
        "\n",
        "difference = matrix1 - matrix2\n",
        "\n",
        "print(\"Матриця 1:\")\n",
        "print(matrix1)\n",
        "print(\"Матриця 2:\")\n",
        "print(matrix2)\n",
        "print(\"Різниця матриць:\")\n",
        "print(difference)\n"
      ],
      "metadata": {
        "id": "FI85tfKK-ksS"
      },
      "execution_count": null,
      "outputs": []
    },
    {
      "cell_type": "code",
      "source": [
        "# Завдання 14\n",
        "# Створіть матрицю розміром 3x3, заповніть її випадковими цілими числами в діапазоні\n",
        "# від 1 до 10 та знайдіть найменший елемент матриці.\n",
        "\n",
        "import numpy as np\n",
        "\n",
        "matrix = np.random.randint(1, 11, size=(3, 3))\n",
        "min_element = np.min(matrix)\n",
        "\n",
        "print(\"Матриця:\")\n",
        "print(matrix)\n",
        "print(\"Найменший елемент матриці:\")\n",
        "print(min_element)\n"
      ],
      "metadata": {
        "id": "pFDfJwzb-kvy"
      },
      "execution_count": null,
      "outputs": []
    },
    {
      "cell_type": "code",
      "source": [
        "# Завдання 15\n",
        "# Створіть матрицю розміром 3x3, заповніть її випадковими дійсними числами в\n",
        "# діапазоні від -2 до 2 та знайдіть вектор-стовпчик, що містить кількість ненульових\n",
        "# елементів в кожному рядку матриці.\n",
        "\n",
        "import numpy as np\n",
        "\n",
        "matrix = np.random.uniform(-2, 2, size=(3, 3))\n",
        "non_zero_counts = np.sum(matrix != 0, axis=1)\n",
        "\n",
        "print(\"Матриця:\")\n",
        "print(matrix)\n",
        "print(\"Кількість ненульових елементів в кожному рядку:\")\n",
        "print(non_zero_counts)\n"
      ],
      "metadata": {
        "id": "f0av-AWz-k0p"
      },
      "execution_count": null,
      "outputs": []
    },
    {
      "cell_type": "code",
      "source": [
        "'''\n",
        "Під час виконання лабораторної роботи було вивчено можливості бібліотеки\n",
        "NumPy для опрацювання масивів і матриць. Було створено різноманітні масиви,\n",
        "заповнені випадковими числами, а також проведено операції додавання, віднімання,\n",
        "множення, транспонування, обчислення оберненої матриці, добутку матриць та інші\n",
        "математичні дії. Використання бібліотеки NumPy забезпечує ефективну роботу з\n",
        "великими наборами даних і дозволяє виконувати обчислення з високою продуктивністю.\n",
        "Завдання наочно показали основні можливості бібліотеки для роботи з масивами і\n",
        "матрицями.'''"
      ],
      "metadata": {
        "id": "r-c_cTR9-rbR"
      },
      "execution_count": null,
      "outputs": []
    }
  ]
}