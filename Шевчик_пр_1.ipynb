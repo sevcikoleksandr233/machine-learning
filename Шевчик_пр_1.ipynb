{
  "nbformat": 4,
  "nbformat_minor": 0,
  "metadata": {
    "colab": {
      "provenance": [],
      "authorship_tag": "ABX9TyNJQwCTl4A+IxtVtwPx50n6",
      "include_colab_link": true
    },
    "kernelspec": {
      "name": "python3",
      "display_name": "Python 3"
    },
    "language_info": {
      "name": "python"
    }
  },
  "cells": [
    {
      "cell_type": "markdown",
      "metadata": {
        "id": "view-in-github",
        "colab_type": "text"
      },
      "source": [
        "<a href=\"https://colab.research.google.com/github/sevcikoleksandr233/machine-learning/blob/main/%D0%A8%D0%B5%D0%B2%D1%87%D0%B8%D0%BA_%D0%BF%D1%80_1.ipynb\" target=\"_parent\"><img src=\"https://colab.research.google.com/assets/colab-badge.svg\" alt=\"Open In Colab\"/></a>"
      ]
    },
    {
      "cell_type": "code",
      "execution_count": 1,
      "metadata": {
        "colab": {
          "base_uri": "https://localhost:8080/"
        },
        "id": "_xCMik_J-F65",
        "outputId": "027fd836-c528-48b4-e7c9-05d7514488ff"
      },
      "outputs": [
        {
          "output_type": "stream",
          "name": "stdout",
          "text": [
            "[ 1  3  5  7  9 11 13 15 17 19]\n"
          ]
        }
      ],
      "source": [
        "# Завдання 1\n",
        "# Створіть одновимірний масив (вектор) з сумами кожного числа та його\n",
        "# попереднього, починаючи з 1, та виведіть його значення.\n",
        "\n",
        "import numpy as np\n",
        "\n",
        "n = 10\n",
        "arr = np.arange(1, n + 1)\n",
        "result = np.zeros(n, dtype=int)\n",
        "\n",
        "for i in range(n):\n",
        "    if i == 0:\n",
        "        result[i] = arr[i]\n",
        "    else:\n",
        "        result[i] = arr[i] + arr[i - 1]\n",
        "\n",
        "print(result)\n"
      ]
    },
    {
      "cell_type": "code",
      "source": [
        "# Завдання 2\n",
        "# Створіть двовимірний масив (матрицю) розміром 3x3, заповніть його значеннями\n",
        "# випадкових дійсних чисел від 1 до 10.\n",
        "\n",
        "import numpy as np\n",
        "\n",
        "rows, cols = 3, 3\n",
        "matrix = np.random.uniform(1, 10, size=(rows, cols))\n",
        "\n",
        "print(matrix)\n"
      ],
      "metadata": {
        "colab": {
          "base_uri": "https://localhost:8080/"
        },
        "id": "htX4N2ae-LkV",
        "outputId": "02fed92c-af31-4969-bf20-2410c9a95424"
      },
      "execution_count": 2,
      "outputs": [
        {
          "output_type": "stream",
          "name": "stdout",
          "text": [
            "[[6.46918163 1.42327097 8.09877526]\n",
            " [9.4426117  5.76230773 9.79982857]\n",
            " [6.47397944 3.70079024 1.6227061 ]]\n"
          ]
        }
      ]
    },
    {
      "cell_type": "code",
      "source": [
        "# Завдання 3\n",
        "# Створіть масив розміром 3x3, заповніть його випадковими натуральними числами від\n",
        "# 1 до 100 та виведіть мін значення\n",
        "\n",
        "import numpy as np\n",
        "\n",
        "rows, cols = 3, 3\n",
        "matrix = np.random.randint(1, 101, size=(rows, cols))\n",
        "min_value = np.min(matrix)\n",
        "\n",
        "print(\"Матриця:\")\n",
        "print(matrix)\n",
        "print(\"Мінімальне значення:\", min_value)\n"
      ],
      "metadata": {
        "colab": {
          "base_uri": "https://localhost:8080/"
        },
        "id": "8IlrEH6B-Lm8",
        "outputId": "e33e4adb-0bc4-4b8a-82eb-0618498a1bbf"
      },
      "execution_count": 3,
      "outputs": [
        {
          "output_type": "stream",
          "name": "stdout",
          "text": [
            "Матриця:\n",
            "[[34 91 59]\n",
            " [46 46 58]\n",
            " [61  6 40]]\n",
            "Мінімальне значення: 6\n"
          ]
        }
      ]
    },
    {
      "cell_type": "code",
      "source": [
        "# Завдання 4\n",
        "# Створіть масив розміром 4x4, заповніть його випадковими дійсними числами в\n",
        "# діапазоні від 0 до 1 та знайдіть кількість елементів, що більше 0.5.\n",
        "\n",
        "import numpy as np\n",
        "\n",
        "matrix = np.random.uniform(0, 1, size=(4, 4))\n",
        "count = np.sum(matrix > 0.5)\n",
        "\n",
        "print(\"Матриця:\")\n",
        "print(matrix)\n",
        "print(\"Кількість елементів, що більше 0.5:\", count)\n"
      ],
      "metadata": {
        "colab": {
          "base_uri": "https://localhost:8080/"
        },
        "id": "vCTH1d2X-Lpm",
        "outputId": "0db76709-cd9a-49ea-a709-d06a7996137d"
      },
      "execution_count": 4,
      "outputs": [
        {
          "output_type": "stream",
          "name": "stdout",
          "text": [
            "Матриця:\n",
            "[[0.40214051 0.49278927 0.56927142 0.03432298]\n",
            " [0.74498962 0.94373413 0.4195586  0.76862512]\n",
            " [0.37121404 0.80488147 0.4611621  0.68587501]\n",
            " [0.32277653 0.93721724 0.92932285 0.5844    ]]\n",
            "Кількість елементів, що більше 0.5: 9\n"
          ]
        }
      ]
    },
    {
      "cell_type": "code",
      "source": [
        "# Завдання 5\n",
        "# Створіть два одновимірних масиви розміром 4, заповніть їх випадковими цілими\n",
        "# числами від -10 до 10 та виконайте на них поелементні операції додавання, віднімання\n",
        "# та множення.\n",
        "\n",
        "import numpy as np\n",
        "\n",
        "array1 = np.random.randint(-10, 11, size=4)\n",
        "array2 = np.random.randint(-10, 11, size=4)\n",
        "\n",
        "addition = array1 + array2\n",
        "subtraction = array1 - array2\n",
        "multiplication = array1 * array2\n",
        "\n",
        "print(\"Масив 1:\")\n",
        "print(array1)\n",
        "print(\"Масив 2:\")\n",
        "print(array2)\n",
        "print(\"Додавання:\")\n",
        "print(addition)\n",
        "print(\"Віднімання:\")\n",
        "print(subtraction)\n",
        "print(\"Множення:\")\n",
        "print(multiplication)\n"
      ],
      "metadata": {
        "colab": {
          "base_uri": "https://localhost:8080/"
        },
        "id": "Kdzbpnrw-LsM",
        "outputId": "8e3a6f2a-ac9a-4fc7-fcd0-ab93de952606"
      },
      "execution_count": 5,
      "outputs": [
        {
          "output_type": "stream",
          "name": "stdout",
          "text": [
            "Масив 1:\n",
            "[-6 -3 -1  9]\n",
            "Масив 2:\n",
            "[ 7 -8 -3 -9]\n",
            "Додавання:\n",
            "[  1 -11  -4   0]\n",
            "Віднімання:\n",
            "[-13   5   2  18]\n",
            "Множення:\n",
            "[-42  24   3 -81]\n"
          ]
        }
      ]
    },
    {
      "cell_type": "code",
      "source": [
        "# Завдання 6\n",
        "# Створіть дві матриці 3x3, заповніть їх довільними цілими числами від 1 до 20 та\n",
        "# знайдіть їх добуток.\n",
        "\n",
        "import numpy as np\n",
        "\n",
        "matrix1 = np.random.randint(1, 21, size=(3, 3))\n",
        "matrix2 = np.random.randint(1, 21, size=(3, 3))\n",
        "\n",
        "product = np.dot(matrix1, matrix2)\n",
        "\n",
        "print(\"Матриця 1:\")\n",
        "print(matrix1)\n",
        "print(\"Матриця 2:\")\n",
        "print(matrix2)\n",
        "print(\"Добуток матриць:\")\n",
        "print(product)\n"
      ],
      "metadata": {
        "colab": {
          "base_uri": "https://localhost:8080/"
        },
        "id": "M-ijfK1T-Lum",
        "outputId": "14034a11-65bd-4eb5-c599-a95c7b392d55"
      },
      "execution_count": 6,
      "outputs": [
        {
          "output_type": "stream",
          "name": "stdout",
          "text": [
            "Матриця 1:\n",
            "[[16  8 15]\n",
            " [ 3  7 14]\n",
            " [ 3  6 14]]\n",
            "Матриця 2:\n",
            "[[ 5  4  6]\n",
            " [ 8  3 18]\n",
            " [ 5 14  1]]\n",
            "Добуток матриць:\n",
            "[[219 298 255]\n",
            " [141 229 158]\n",
            " [133 226 140]]\n"
          ]
        }
      ]
    },
    {
      "cell_type": "code",
      "source": [
        "# Завдання 7\n",
        "# Створіть дві матриці розміром 2x3 та 3x3, заповніть їх випадковими цілими числами\n",
        "# в діапазоні від 1 до 4 та перемножте їх між собою.\n",
        "\n",
        "import numpy as np\n",
        "\n",
        "matrix1 = np.random.randint(1, 5, size=(2, 3))\n",
        "matrix2 = np.random.randint(1, 5, size=(3, 3))\n",
        "\n",
        "product = np.dot(matrix1, matrix2)\n",
        "\n",
        "print(\"Матриця 1:\")\n",
        "print(matrix1)\n",
        "print(\"Матриця 2:\")\n",
        "print(matrix2)\n",
        "print(\"Добуток матриць:\")\n",
        "print(product)\n"
      ],
      "metadata": {
        "colab": {
          "base_uri": "https://localhost:8080/"
        },
        "id": "g07ypH55-LxI",
        "outputId": "2515300b-eb7c-40ee-e0b4-96ba84948c10"
      },
      "execution_count": 7,
      "outputs": [
        {
          "output_type": "stream",
          "name": "stdout",
          "text": [
            "Матриця 1:\n",
            "[[2 2 2]\n",
            " [4 1 1]]\n",
            "Матриця 2:\n",
            "[[1 4 4]\n",
            " [1 3 2]\n",
            " [3 4 4]]\n",
            "Добуток матриць:\n",
            "[[10 22 20]\n",
            " [ 8 23 22]]\n"
          ]
        }
      ]
    },
    {
      "cell_type": "code",
      "source": [
        "# Завдання 8\n",
        "# Створіть матрицю розміром 3x3, заповніть її випадковими цілими числами в діапазоні\n",
        "# від 1 до 7 та знайдіть її обернену матрицю.\n",
        "\n",
        "import numpy as np\n",
        "\n",
        "matrix = np.random.randint(1, 8, size=(3, 3))\n",
        "\n",
        "try:\n",
        "    inverse_matrix = np.linalg.inv(matrix)\n",
        "    print(\"Матриця:\")\n",
        "    print(matrix)\n",
        "    print(\"Обернена матриця:\")\n",
        "    print(inverse_matrix)\n",
        "except np.linalg.LinAlgError:\n",
        "    print(\"Матриця не є оберненою (можливо, її детермінант дорівнює нулю).\")\n"
      ],
      "metadata": {
        "colab": {
          "base_uri": "https://localhost:8080/"
        },
        "id": "KcVSufx5-Lzw",
        "outputId": "bb772ab0-c055-40a0-b18a-7bb929d9d811"
      },
      "execution_count": 8,
      "outputs": [
        {
          "output_type": "stream",
          "name": "stdout",
          "text": [
            "Матриця не є оберненою (можливо, її детермінант дорівнює нулю).\n"
          ]
        }
      ]
    },
    {
      "cell_type": "code",
      "source": [
        "# Завдання 9\n",
        "# Створіть матрицю розміром 4x4, заповніть її випадковими цілими числами в діапазоні\n",
        "# від 0 до 1 та транспонуйте її.\n",
        "\n",
        "import numpy as np\n",
        "\n",
        "matrix = np.random.randint(0, 2, size=(4, 4))\n",
        "transposed_matrix = np.transpose(matrix)\n",
        "\n",
        "print(\"Матриця:\")\n",
        "print(matrix)\n",
        "print(\"Транспонована матриця:\")\n",
        "print(transposed_matrix)\n"
      ],
      "metadata": {
        "colab": {
          "base_uri": "https://localhost:8080/"
        },
        "id": "H5spK6B--L16",
        "outputId": "8d6424d7-516f-4d39-ecda-ca382c559da7"
      },
      "execution_count": 9,
      "outputs": [
        {
          "output_type": "stream",
          "name": "stdout",
          "text": [
            "Матриця:\n",
            "[[0 1 0 0]\n",
            " [0 1 1 1]\n",
            " [0 0 0 1]\n",
            " [0 1 1 0]]\n",
            "Транспонована матриця:\n",
            "[[0 0 0 0]\n",
            " [1 1 0 1]\n",
            " [0 1 0 1]\n",
            " [0 1 1 0]]\n"
          ]
        }
      ]
    },
    {
      "cell_type": "code",
      "source": [
        "# Завдання 10\n",
        "# Створіть матрицю розміром 3x4 та вектор розміром 4x1, заповніть матрицю\n",
        "# випадковими дійсними числами від 0 до 1, а вектор - випадковими дійсними числами\n",
        "# від 0 до 1, і знайдіть добуток матриці на вектор\n",
        "\n",
        "import numpy as np\n",
        "\n",
        "matrix = np.random.uniform(0, 1, size=(3, 4))\n",
        "vector = np.random.uniform(0, 1, size=(4, 1))\n",
        "\n",
        "product = np.dot(matrix, vector)\n",
        "\n",
        "print(\"Матриця:\")\n",
        "print(matrix)\n",
        "print(\"Вектор:\")\n",
        "print(vector)\n",
        "print(\"Добуток матриці на вектор:\")\n",
        "print(product)\n"
      ],
      "metadata": {
        "colab": {
          "base_uri": "https://localhost:8080/"
        },
        "id": "3HP3ckSo-L4d",
        "outputId": "aa586770-be8f-4f49-9cc9-da6766691363"
      },
      "execution_count": 10,
      "outputs": [
        {
          "output_type": "stream",
          "name": "stdout",
          "text": [
            "Матриця:\n",
            "[[0.34988616 0.14638968 0.88364756 0.81144744]\n",
            " [0.10387043 0.92479389 0.91274641 0.48874947]\n",
            " [0.54928576 0.18642292 0.89843247 0.68915838]]\n",
            "Вектор:\n",
            "[[0.58639718]\n",
            " [0.87245824]\n",
            " [0.04309355]\n",
            " [0.4588769 ]]\n",
            "Добуток матриці на вектор:\n",
            "[[0.74332515]\n",
            " [1.1313627 ]\n",
            " [0.83970135]]\n"
          ]
        }
      ]
    },
    {
      "cell_type": "code",
      "source": [
        "# Завдання 11\n",
        "# Створіть матрицю розміром 2x3 та вектор розміром 3x1, заповніть матрицю\n",
        "# випадковими дійсними числами від 0 до 1, а вектор - випадковими дійсними числами\n",
        "# від 0 до 1, і знайдіть добуток матриці на вектор\n",
        "\n",
        "import numpy as np\n",
        "\n",
        "matrix = np.random.uniform(0, 1, size=(2, 3))\n",
        "vector = np.random.uniform(0, 1, size=(3, 1))\n",
        "\n",
        "product = np.dot(matrix, vector)\n",
        "\n",
        "print(\"Матриця:\")\n",
        "print(matrix)\n",
        "print(\"Вектор:\")\n",
        "print(vector)\n",
        "print(\"Добуток матриці на вектор:\")\n",
        "print(product)\n"
      ],
      "metadata": {
        "colab": {
          "base_uri": "https://localhost:8080/"
        },
        "id": "F-wLvaGF-L8E",
        "outputId": "8ed6ad94-a6c7-47c4-f1f6-cfb71c417127"
      },
      "execution_count": 11,
      "outputs": [
        {
          "output_type": "stream",
          "name": "stdout",
          "text": [
            "Матриця:\n",
            "[[0.997011   0.90871201 0.02029798]\n",
            " [0.9942429  0.04777968 0.85739701]]\n",
            "Вектор:\n",
            "[[0.31077814]\n",
            " [0.88328477]\n",
            " [0.38199967]]\n",
            "Добуток матриці на вектор:\n",
            "[[1.12025453]\n",
            " [0.6787174 ]]\n"
          ]
        }
      ]
    },
    {
      "cell_type": "code",
      "source": [
        "# Завдання 12\n",
        "# Створіть дві матриці розміром 3x3, заповніть їх випадковими цілими числами в\n",
        "# діапазоні від 1 до 5 та знайдіть добуток елементів діагоналі другої матриці.\n",
        "\n",
        "import numpy as np\n",
        "\n",
        "matrix1 = np.random.randint(1, 6, size=(3, 3))\n",
        "matrix2 = np.random.randint(1, 6, size=(3, 3))\n",
        "\n",
        "diagonal_elements = np.diag(matrix2)\n",
        "product_of_diagonal = np.prod(diagonal_elements)\n",
        "\n",
        "print(\"Матриця 1:\")\n",
        "print(matrix1)\n",
        "print(\"Матриця 2:\")\n",
        "print(matrix2)\n",
        "print(\"Добуток елементів діагоналі другої матриці:\")\n",
        "print(product_of_diagonal)\n"
      ],
      "metadata": {
        "colab": {
          "base_uri": "https://localhost:8080/"
        },
        "id": "_7kGd_Js-kpR",
        "outputId": "32cb59e4-8da7-4701-b5f8-99cc59c7eae5"
      },
      "execution_count": 12,
      "outputs": [
        {
          "output_type": "stream",
          "name": "stdout",
          "text": [
            "Матриця 1:\n",
            "[[1 3 5]\n",
            " [5 1 1]\n",
            " [1 5 1]]\n",
            "Матриця 2:\n",
            "[[1 4 2]\n",
            " [2 5 2]\n",
            " [1 5 2]]\n",
            "Добуток елементів діагоналі другої матриці:\n",
            "10\n"
          ]
        }
      ]
    },
    {
      "cell_type": "code",
      "source": [
        "# Завдання 13\n",
        "# Створіть дві матриці розміром 4x4, заповніть їх випадковими цілими числами в\n",
        "# діапазоні від 1 до 5 та знайдіть різницю їх елементів.\n",
        "\n",
        "import numpy as np\n",
        "\n",
        "matrix1 = np.random.randint(1, 6, size=(4, 4))\n",
        "matrix2 = np.random.randint(1, 6, size=(4, 4))\n",
        "\n",
        "difference = matrix1 - matrix2\n",
        "\n",
        "print(\"Матриця 1:\")\n",
        "print(matrix1)\n",
        "print(\"Матриця 2:\")\n",
        "print(matrix2)\n",
        "print(\"Різниця матриць:\")\n",
        "print(difference)\n"
      ],
      "metadata": {
        "colab": {
          "base_uri": "https://localhost:8080/"
        },
        "id": "FI85tfKK-ksS",
        "outputId": "0258d4a5-eed1-4504-90d7-934ff03a34e9"
      },
      "execution_count": 13,
      "outputs": [
        {
          "output_type": "stream",
          "name": "stdout",
          "text": [
            "Матриця 1:\n",
            "[[1 5 2 1]\n",
            " [5 4 1 2]\n",
            " [3 3 3 4]\n",
            " [1 1 5 3]]\n",
            "Матриця 2:\n",
            "[[5 5 4 5]\n",
            " [5 5 3 4]\n",
            " [5 3 3 1]\n",
            " [3 4 5 1]]\n",
            "Різниця матриць:\n",
            "[[-4  0 -2 -4]\n",
            " [ 0 -1 -2 -2]\n",
            " [-2  0  0  3]\n",
            " [-2 -3  0  2]]\n"
          ]
        }
      ]
    },
    {
      "cell_type": "code",
      "source": [
        "# Завдання 14\n",
        "# Створіть матрицю розміром 3x3, заповніть її випадковими цілими числами в діапазоні\n",
        "# від 1 до 10 та знайдіть найменший елемент матриці.\n",
        "\n",
        "import numpy as np\n",
        "\n",
        "matrix = np.random.randint(1, 11, size=(3, 3))\n",
        "min_element = np.min(matrix)\n",
        "\n",
        "print(\"Матриця:\")\n",
        "print(matrix)\n",
        "print(\"Найменший елемент матриці:\")\n",
        "print(min_element)\n"
      ],
      "metadata": {
        "colab": {
          "base_uri": "https://localhost:8080/"
        },
        "id": "pFDfJwzb-kvy",
        "outputId": "c5d8dfb7-7ca7-44a5-d14d-c6856fc277d1"
      },
      "execution_count": 14,
      "outputs": [
        {
          "output_type": "stream",
          "name": "stdout",
          "text": [
            "Матриця:\n",
            "[[5 3 1]\n",
            " [2 7 8]\n",
            " [1 6 4]]\n",
            "Найменший елемент матриці:\n",
            "1\n"
          ]
        }
      ]
    },
    {
      "cell_type": "code",
      "source": [
        "# Завдання 15\n",
        "# Створіть матрицю розміром 3x3, заповніть її випадковими дійсними числами в\n",
        "# діапазоні від -2 до 2 та знайдіть вектор-стовпчик, що містить кількість ненульових\n",
        "# елементів в кожному рядку матриці.\n",
        "\n",
        "import numpy as np\n",
        "\n",
        "matrix = np.random.uniform(-2, 2, size=(3, 3))\n",
        "non_zero_counts = np.sum(matrix != 0, axis=1)\n",
        "\n",
        "print(\"Матриця:\")\n",
        "print(matrix)\n",
        "print(\"Кількість ненульових елементів в кожному рядку:\")\n",
        "print(non_zero_counts)\n"
      ],
      "metadata": {
        "colab": {
          "base_uri": "https://localhost:8080/"
        },
        "id": "f0av-AWz-k0p",
        "outputId": "98e882b7-0a25-46ab-9279-c75fe192d85d"
      },
      "execution_count": 15,
      "outputs": [
        {
          "output_type": "stream",
          "name": "stdout",
          "text": [
            "Матриця:\n",
            "[[-0.72517083 -1.38184832 -0.22481257]\n",
            " [ 0.58221953  1.76125544 -1.45931108]\n",
            " [ 1.61461821  1.91304068  0.91845767]]\n",
            "Кількість ненульових елементів в кожному рядку:\n",
            "[3 3 3]\n"
          ]
        }
      ]
    },
    {
      "cell_type": "code",
      "source": [
        "'''\n",
        "Під час виконання лабораторної роботи було вивчено можливості бібліотеки\n",
        "NumPy для опрацювання масивів і матриць. Було створено різноманітні масиви,\n",
        "заповнені випадковими числами, а також проведено операції додавання, віднімання,\n",
        "множення, транспонування, обчислення оберненої матриці, добутку матриць та інші\n",
        "математичні дії. Використання бібліотеки NumPy забезпечує ефективну роботу з\n",
        "великими наборами даних і дозволяє виконувати обчислення з високою продуктивністю.\n",
        "Завдання наочно показали основні можливості бібліотеки для роботи з масивами і\n",
        "матрицями.'''"
      ],
      "metadata": {
        "id": "r-c_cTR9-rbR"
      },
      "execution_count": null,
      "outputs": []
    }
  ]
}